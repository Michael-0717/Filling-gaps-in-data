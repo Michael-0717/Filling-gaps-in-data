{
 "cells": [
  {
   "cell_type": "markdown",
   "metadata": {},
   "source": [
    "### Постановка задачи\n",
    "Заполним отсутствующие значения по погоде интерполяционными данными.\n",
    "\n",
    "Посчитаем модель линейной регрессии по первому зданию и найдем ее точность.\n",
    "\n",
    "Данные:\n",
    "* http://video.ittensive.com/machine-learning/ashrae/building_metadata.csv.gz\n",
    "* http://video.ittensive.com/machine-learning/ashrae/weather_train.csv.gz\n",
    "* http://video.ittensive.com/machine-learning/ashrae/train.0.csv.gz\n",
    "Соревнование: https://www.kaggle.com/c/ashrae-energy-prediction/\n",
    "\n",
    "© ITtensive, 2020"
   ]
  },
  {
   "cell_type": "markdown",
   "metadata": {},
   "source": [
    "### Подключение библиотек"
   ]
  },
  {
   "cell_type": "code",
   "execution_count": 1,
   "metadata": {},
   "outputs": [],
   "source": [
    "import pandas as pd\n",
    "import numpy as np\n",
    "from scipy.interpolate import interp1d\n",
    "from sklearn.model_selection import train_test_split\n",
    "from sklearn.linear_model import LinearRegression"
   ]
  },
  {
   "cell_type": "markdown",
   "metadata": {},
   "source": [
    "### Загрузка данных"
   ]
  },
  {
   "cell_type": "code",
   "execution_count": 9,
   "metadata": {},
   "outputs": [],
   "source": [
    "buildings = pd.read_csv(\"http://video.ittensive.com/machine-learning/ashrae/building_metadata.csv.gz\")\n",
    "weather = pd.read_csv(\"http://video.ittensive.com/machine-learning/ashrae/weather_train.csv.gz\")\n",
    "energy = pd.read_csv(\"http://video.ittensive.com/machine-learning/ashrae/train.0.csv.gz\")"
   ]
  },
  {
   "cell_type": "markdown",
   "metadata": {},
   "source": [
    "### Отсечение здания 0 и отсутствующих значений"
   ]
  },
  {
   "cell_type": "code",
   "execution_count": 10,
   "metadata": {},
   "outputs": [
    {
     "name": "stdout",
     "output_type": "stream",
     "text": [
      "          building_id  meter            timestamp  meter_reading\n",
      "0                   0      0  2016-01-01 00:00:00          0.000\n",
      "1388                0      0  2016-01-01 01:00:00          0.000\n",
      "2773                0      0  2016-01-01 02:00:00          0.000\n",
      "4160                0      0  2016-01-01 03:00:00          0.000\n",
      "5548                0      0  2016-01-01 04:00:00          0.000\n",
      "...               ...    ...                  ...            ...\n",
      "12053891            0      0  2016-12-31 19:00:00        232.071\n",
      "12055295            0      0  2016-12-31 20:00:00        189.069\n",
      "12056699            0      0  2016-12-31 21:00:00        169.958\n",
      "12058102            0      0  2016-12-31 22:00:00        169.958\n",
      "12059506            0      0  2016-12-31 23:00:00        175.418\n",
      "\n",
      "[8784 rows x 4 columns]\n"
     ]
    }
   ],
   "source": [
    "energy = energy[(energy[\"building_id\"]==0)]\n",
    "print (energy)"
   ]
  },
  {
   "cell_type": "markdown",
   "metadata": {},
   "source": [
    "### Объединение данных"
   ]
  },
  {
   "cell_type": "code",
   "execution_count": 11,
   "metadata": {},
   "outputs": [
    {
     "name": "stdout",
     "output_type": "stream",
     "text": [
      "                timestamp  building_id  meter_reading primary_use  \\\n",
      "0     2016-01-01 00:00:00            0          0.000   Education   \n",
      "1     2016-01-01 01:00:00            0          0.000   Education   \n",
      "2     2016-01-01 02:00:00            0          0.000   Education   \n",
      "3     2016-01-01 03:00:00            0          0.000   Education   \n",
      "4     2016-01-01 04:00:00            0          0.000   Education   \n",
      "...                   ...          ...            ...         ...   \n",
      "8779  2016-12-31 19:00:00            0        232.071   Education   \n",
      "8780  2016-12-31 20:00:00            0        189.069   Education   \n",
      "8781  2016-12-31 21:00:00            0        169.958   Education   \n",
      "8782  2016-12-31 22:00:00            0        169.958   Education   \n",
      "8783  2016-12-31 23:00:00            0        175.418   Education   \n",
      "\n",
      "      square_feet  year_built  air_temperature  cloud_coverage  \\\n",
      "0            7432      2008.0             25.0             6.0   \n",
      "1            7432      2008.0             24.4             NaN   \n",
      "2            7432      2008.0             22.8             2.0   \n",
      "3            7432      2008.0             21.1             2.0   \n",
      "4            7432      2008.0             20.0             2.0   \n",
      "...           ...         ...              ...             ...   \n",
      "8779         7432      2008.0             22.8             NaN   \n",
      "8780         7432      2008.0             23.3             NaN   \n",
      "8781         7432      2008.0             23.3             NaN   \n",
      "8782         7432      2008.0             22.8             NaN   \n",
      "8783         7432      2008.0             20.6             NaN   \n",
      "\n",
      "      dew_temperature  precip_depth_1_hr  sea_level_pressure  wind_direction  \\\n",
      "0                20.0                NaN              1019.7             0.0   \n",
      "1                21.1               -1.0              1020.2            70.0   \n",
      "2                21.1                0.0              1020.2             0.0   \n",
      "3                20.6                0.0              1020.1             0.0   \n",
      "4                20.0               -1.0              1020.0           250.0   \n",
      "...               ...                ...                 ...             ...   \n",
      "8779             10.0                0.0              1021.7           140.0   \n",
      "8780              8.9                0.0              1021.0           170.0   \n",
      "8781             10.0                0.0              1021.1           150.0   \n",
      "8782             10.0                0.0              1021.1           160.0   \n",
      "8783             10.0                0.0              1021.1             0.0   \n",
      "\n",
      "      wind_speed  \n",
      "0            0.0  \n",
      "1            1.5  \n",
      "2            0.0  \n",
      "3            0.0  \n",
      "4            2.6  \n",
      "...          ...  \n",
      "8779         5.7  \n",
      "8780         4.1  \n",
      "8781         4.1  \n",
      "8782         3.1  \n",
      "8783         0.0  \n",
      "\n",
      "[8784 rows x 13 columns]\n",
      "<class 'pandas.core.frame.DataFrame'>\n",
      "RangeIndex: 8784 entries, 0 to 8783\n",
      "Data columns (total 13 columns):\n",
      " #   Column              Non-Null Count  Dtype  \n",
      "---  ------              --------------  -----  \n",
      " 0   timestamp           8784 non-null   object \n",
      " 1   building_id         8784 non-null   int64  \n",
      " 2   meter_reading       8784 non-null   float64\n",
      " 3   primary_use         8784 non-null   object \n",
      " 4   square_feet         8784 non-null   int64  \n",
      " 5   year_built          8784 non-null   float64\n",
      " 6   air_temperature     8781 non-null   float64\n",
      " 7   cloud_coverage      4954 non-null   float64\n",
      " 8   dew_temperature     8781 non-null   float64\n",
      " 9   precip_depth_1_hr   8783 non-null   float64\n",
      " 10  sea_level_pressure  8699 non-null   float64\n",
      " 11  wind_direction      8534 non-null   float64\n",
      " 12  wind_speed          8784 non-null   float64\n",
      "dtypes: float64(9), int64(2), object(2)\n",
      "memory usage: 892.2+ KB\n",
      "None\n"
     ]
    }
   ],
   "source": [
    "energy = pd.merge(left=energy, right=buildings, how=\"left\",\n",
    "                   left_on=\"building_id\", right_on=\"building_id\")\n",
    "energy = energy.set_index([\"timestamp\", \"site_id\"])\n",
    "weather = weather.set_index([\"timestamp\", \"site_id\"])\n",
    "energy = pd.merge(left=energy, right=weather, how=\"left\",\n",
    "                  left_index=True, right_index=True)\n",
    "energy.reset_index(inplace=True)\n",
    "energy = energy.drop(columns=[\"meter\", \"site_id\", \"floor_count\"], axis=1)\n",
    "print (energy)\n",
    "del buildings\n",
    "del weather\n",
    "print (energy.info())"
   ]
  },
  {
   "cell_type": "markdown",
   "metadata": {},
   "source": [
    "### Оптимизация памяти"
   ]
  },
  {
   "cell_type": "code",
   "execution_count": 12,
   "metadata": {},
   "outputs": [],
   "source": [
    "def reduce_mem_usage (df):\n",
    "    start_mem = df.memory_usage().sum() / 1024**2    \n",
    "    for col in df.columns:\n",
    "        col_type = df[col].dtypes\n",
    "        if str(col_type)[:5] == \"float\":\n",
    "            c_min = df[col].min()\n",
    "            c_max = df[col].max()\n",
    "            if c_min > np.finfo(\"f2\").min and c_max < np.finfo(\"f2\").max:\n",
    "                df[col] = df[col].astype(np.float16)\n",
    "            elif c_min > np.finfo(\"f4\").min and c_max < np.finfo(\"f4\").max:\n",
    "                df[col] = df[col].astype(np.float32)\n",
    "            else:\n",
    "                df[col] = df[col].astype(np.float64)\n",
    "        elif str(col_type)[:3] == \"int\":\n",
    "            c_min = df[col].min()\n",
    "            c_max = df[col].max()\n",
    "            if c_min > np.iinfo(\"i1\").min and c_max < np.iinfo(\"i1\").max:\n",
    "                df[col] = df[col].astype(np.int8)\n",
    "            elif c_min > np.iinfo(\"i2\").min and c_max < np.iinfo(\"i2\").max:\n",
    "                df[col] = df[col].astype(np.int16)\n",
    "            elif c_min > np.iinfo(\"i4\").min and c_max < np.iinfo(\"i4\").max:\n",
    "                df[col] = df[col].astype(np.int32)\n",
    "            elif c_min > np.iinfo(\"i8\").min and c_max < np.iinfo(\"i8\").max:\n",
    "                df[col] = df[col].astype(np.int64)\n",
    "        elif col == \"timestamp\":\n",
    "            df[col] = pd.to_datetime(df[col])\n",
    "        elif str(col_type)[:8] != \"datetime\":\n",
    "            df[col] = df[col].astype(\"category\")\n",
    "    end_mem = df.memory_usage().sum() / 1024**2\n",
    "    print('Потребление памяти меньше на', round(start_mem - end_mem, 2), 'Мб (минус', round(100 * (start_mem - end_mem) / start_mem, 1), '%)')\n",
    "    return df"
   ]
  },
  {
   "cell_type": "code",
   "execution_count": 6,
   "metadata": {},
   "outputs": [
    {
     "name": "stdout",
     "output_type": "stream",
     "text": [
      "Потребление памяти меньше на 0.62 Мб (минус 71.1 %)\n"
     ]
    }
   ],
   "source": [
    "energy = reduce_mem_usage(energy)"
   ]
  },
  {
   "cell_type": "markdown",
   "metadata": {},
   "source": [
    "### Интерполяция данных"
   ]
  },
  {
   "cell_type": "code",
   "execution_count": 13,
   "metadata": {},
   "outputs": [
    {
     "name": "stdout",
     "output_type": "stream",
     "text": [
      "0       1019.7\n",
      "1       1020.2\n",
      "2       1020.2\n",
      "3       1020.1\n",
      "4       1020.0\n",
      "         ...  \n",
      "8779    1021.7\n",
      "8780    1021.0\n",
      "8781    1021.1\n",
      "8782    1021.1\n",
      "8783    1021.1\n",
      "Name: sea_level_pressure, Length: 8784, dtype: float64\n"
     ]
    }
   ],
   "source": [
    "energy[\"precip_depth_1_hr\"] = energy[\"precip_depth_1_hr\"].apply(lambda x:x if x>0 else 0)\n",
    "interpolate_columns = [\"air_temperature\", \"dew_temperature\",\n",
    "                       \"cloud_coverage\", \"wind_speed\",\n",
    "                       \"precip_depth_1_hr\", \"sea_level_pressure\"]\n",
    "for col in interpolate_columns:\n",
    "    energy[col] = energy[col].interpolate(limit_direction='both',\n",
    "                            kind='cubic')\n",
    "print(energy[col])"
   ]
  },
  {
   "cell_type": "markdown",
   "metadata": {},
   "source": [
    "### Проверка качества интерполяции"
   ]
  },
  {
   "cell_type": "code",
   "execution_count": 8,
   "metadata": {},
   "outputs": [
    {
     "name": "stdout",
     "output_type": "stream",
     "text": [
      "air_temperature Inf+NaN: 0\n",
      "dew_temperature Inf+NaN: 0\n",
      "cloud_coverage Inf+NaN: 0\n",
      "wind_speed Inf+NaN: 0\n",
      "precip_depth_1_hr Inf+NaN: 0\n",
      "sea_level_pressure Inf+NaN: 0\n"
     ]
    }
   ],
   "source": [
    "pd.set_option('use_inf_as_na', True)\n",
    "for col in interpolate_columns:\n",
    "    print (col, \"Inf+NaN:\", energy[col].isnull().sum())"
   ]
  },
  {
   "cell_type": "markdown",
   "metadata": {},
   "source": [
    "### Разделение данных"
   ]
  },
  {
   "cell_type": "code",
   "execution_count": 10,
   "metadata": {},
   "outputs": [
    {
     "name": "stdout",
     "output_type": "stream",
     "text": [
      "               timestamp  building_id  meter_reading primary_use  square_feet  \\\n",
      "3611 2016-05-30 11:00:00            0        178.125   Education         7432   \n",
      "7225 2016-10-28 01:00:00            0        206.875   Education         7432   \n",
      "8600 2016-12-24 08:00:00            0        235.500   Education         7432   \n",
      "7326 2016-11-01 06:00:00            0        225.250   Education         7432   \n",
      "7535 2016-11-09 23:00:00            0        219.750   Education         7432   \n",
      "\n",
      "      year_built  air_temperature  cloud_coverage  dew_temperature  \\\n",
      "3611      2008.0        21.703125        4.000000        20.000000   \n",
      "7225      2008.0        23.296875        8.000000        16.703125   \n",
      "8600      2008.0        17.203125        0.000000        15.601562   \n",
      "7326      2008.0        19.406250        0.000000        17.203125   \n",
      "7535      2008.0        22.203125        7.667969        16.093750   \n",
      "\n",
      "      precip_depth_1_hr  sea_level_pressure  wind_direction  wind_speed  \n",
      "3611                0.0              1016.0           290.0    2.099609  \n",
      "7225                0.0              1022.0            40.0    4.101562  \n",
      "8600                0.0              1024.0            20.0    1.500000  \n",
      "7326                0.0              1018.5            70.0    1.500000  \n",
      "7535                0.0              1016.5            10.0    3.599609  \n"
     ]
    }
   ],
   "source": [
    "energy_train, energy_test = train_test_split(energy[energy[\"meter_reading\"]>0], test_size=0.2)\n",
    "print (energy_train.head())"
   ]
  },
  {
   "cell_type": "markdown",
   "metadata": {},
   "source": [
    "### Линейная регрессия"
   ]
  },
  {
   "cell_type": "code",
   "execution_count": 11,
   "metadata": {},
   "outputs": [
    {
     "name": "stdout",
     "output_type": "stream",
     "text": [
      "[ 2.55872086  3.7609389  -2.51010446 -1.69090167  0.1696868  -0.95011603] 1082.8112359757624\n"
     ]
    }
   ],
   "source": [
    "regression_columns = [\"meter_reading\", \"air_temperature\",\n",
    "        \"dew_temperature\", \"cloud_coverage\", \"wind_speed\",\n",
    "        \"precip_depth_1_hr\", \"sea_level_pressure\"]\n",
    "\n",
    "energy_train_lr = pd.DataFrame(energy_train,\n",
    "    columns=regression_columns)\n",
    "y = energy_train_lr[\"meter_reading\"]\n",
    "x = energy_train_lr.drop(labels=[\"meter_reading\"], axis=1)\n",
    "model = LinearRegression().fit(x, y)\n",
    "print (model.coef_, model.intercept_)"
   ]
  },
  {
   "cell_type": "markdown",
   "metadata": {},
   "source": [
    "### Предсказание и оценка модели"
   ]
  },
  {
   "cell_type": "code",
   "execution_count": 12,
   "metadata": {},
   "outputs": [
    {
     "name": "stdout",
     "output_type": "stream",
     "text": [
      "Качество линейной регрессии: 0.2067176002979107 0.2\n"
     ]
    }
   ],
   "source": [
    "def calculate_model (x):\n",
    "    lr = np.sum([x[col] * model.coef_[i] for i,col in enumerate(regression_columns[1:])])\n",
    "    lr += model.intercept_\n",
    "    x[\"meter_reading_lr_q\"] = (np.log(1 + x.meter_reading) -\n",
    "                               np.log(1 + lr))**2\n",
    "    return x\n",
    "\n",
    "energy_test = energy_test.apply(calculate_model,\n",
    "                                    axis=1, result_type=\"expand\")\n",
    "energy_test_lr_rmsle = np.sqrt(energy_test[\"meter_reading_lr_q\"].sum() / len(energy_test))\n",
    "print (\"Качество линейной регрессии:\", energy_test_lr_rmsle, round(energy_test_lr_rmsle, 1))"
   ]
  }
 ],
 "metadata": {
  "kernelspec": {
   "display_name": "Python 3 (ipykernel)",
   "language": "python",
   "name": "python3"
  },
  "language_info": {
   "codemirror_mode": {
    "name": "ipython",
    "version": 3
   },
   "file_extension": ".py",
   "mimetype": "text/x-python",
   "name": "python",
   "nbconvert_exporter": "python",
   "pygments_lexer": "ipython3",
   "version": "3.9.13"
  }
 },
 "nbformat": 4,
 "nbformat_minor": 2
}
